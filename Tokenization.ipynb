{
  "nbformat": 4,
  "nbformat_minor": 0,
  "metadata": {
    "colab": {
      "provenance": []
    },
    "kernelspec": {
      "name": "python3",
      "display_name": "Python 3"
    },
    "language_info": {
      "name": "python"
    }
  },
  "cells": [
    {
      "cell_type": "code",
      "execution_count": 1,
      "metadata": {
        "colab": {
          "base_uri": "https://localhost:8080/"
        },
        "id": "FD88HmxVEsBR",
        "outputId": "045ed9bb-0d73-49ff-cc7f-3ca64f4da781"
      },
      "outputs": [
        {
          "output_type": "stream",
          "name": "stdout",
          "text": [
            "Requirement already satisfied: nltk in /usr/local/lib/python3.10/dist-packages (3.8.1)\n",
            "Requirement already satisfied: click in /usr/local/lib/python3.10/dist-packages (from nltk) (8.1.7)\n",
            "Requirement already satisfied: joblib in /usr/local/lib/python3.10/dist-packages (from nltk) (1.4.2)\n",
            "Requirement already satisfied: regex>=2021.8.3 in /usr/local/lib/python3.10/dist-packages (from nltk) (2024.9.11)\n",
            "Requirement already satisfied: tqdm in /usr/local/lib/python3.10/dist-packages (from nltk) (4.66.6)\n"
          ]
        }
      ],
      "source": [
        "!pip install nltk"
      ]
    },
    {
      "cell_type": "code",
      "source": [
        "from nltk.tokenize import word_tokenize\n",
        "import nltk\n",
        "nltk.download('punkt')"
      ],
      "metadata": {
        "id": "AYUHiCamGUNq",
        "outputId": "3bcff516-858d-4383-a3bd-993606aa6102",
        "colab": {
          "base_uri": "https://localhost:8080/"
        }
      },
      "execution_count": 10,
      "outputs": [
        {
          "output_type": "stream",
          "name": "stderr",
          "text": [
            "[nltk_data] Downloading package punkt to /root/nltk_data...\n",
            "[nltk_data]   Unzipping tokenizers/punkt.zip.\n"
          ]
        },
        {
          "output_type": "execute_result",
          "data": {
            "text/plain": [
              "True"
            ]
          },
          "metadata": {},
          "execution_count": 10
        }
      ]
    },
    {
      "cell_type": "code",
      "source": [
        "from nltk.tokenize import word_tokenize\n",
        "text = \"I am learning Naural Language Processing. This is one of my favourite topics. I am very glad I joined this seminar. I am gaining a lot of new knowledge\"\n",
        "tokens = word_tokenize(text)\n",
        "print(tokens)"
      ],
      "metadata": {
        "colab": {
          "base_uri": "https://localhost:8080/"
        },
        "id": "cChnQb2IQ9_M",
        "outputId": "96aa35a1-2f76-479b-85ec-d7e041e04beb"
      },
      "execution_count": 11,
      "outputs": [
        {
          "output_type": "stream",
          "name": "stdout",
          "text": [
            "['I', 'am', 'learning', 'Naural', 'Language', 'Processing', '.', 'This', 'is', 'one', 'of', 'my', 'favourite', 'topics', '.', 'I', 'am', 'very', 'glad', 'I', 'joined', 'this', 'seminar', '.', 'I', 'am', 'gaining', 'a', 'lot', 'of', 'new', 'knowledge']\n"
          ]
        }
      ]
    },
    {
      "cell_type": "code",
      "source": [
        "print(len(tokens))"
      ],
      "metadata": {
        "colab": {
          "base_uri": "https://localhost:8080/"
        },
        "id": "hin1H4PWQ-By",
        "outputId": "430cb379-2ceb-4e96-d80e-ee6e2ba03fb7"
      },
      "execution_count": 12,
      "outputs": [
        {
          "output_type": "stream",
          "name": "stdout",
          "text": [
            "32\n"
          ]
        }
      ]
    },
    {
      "cell_type": "code",
      "source": [
        "for t in tokens:\n",
        "  print(nltk.FreqDist(t))\n"
      ],
      "metadata": {
        "colab": {
          "base_uri": "https://localhost:8080/"
        },
        "id": "rJH8XitaQ-Em",
        "outputId": "aaa6993e-d939-4cde-8b11-6ecfeaca9464"
      },
      "execution_count": 14,
      "outputs": [
        {
          "output_type": "stream",
          "name": "stdout",
          "text": [
            "<FreqDist with 1 samples and 1 outcomes>\n",
            "<FreqDist with 2 samples and 2 outcomes>\n",
            "<FreqDist with 7 samples and 8 outcomes>\n",
            "<FreqDist with 5 samples and 6 outcomes>\n",
            "<FreqDist with 6 samples and 8 outcomes>\n",
            "<FreqDist with 9 samples and 10 outcomes>\n",
            "<FreqDist with 1 samples and 1 outcomes>\n",
            "<FreqDist with 4 samples and 4 outcomes>\n",
            "<FreqDist with 2 samples and 2 outcomes>\n",
            "<FreqDist with 3 samples and 3 outcomes>\n",
            "<FreqDist with 2 samples and 2 outcomes>\n",
            "<FreqDist with 2 samples and 2 outcomes>\n",
            "<FreqDist with 9 samples and 9 outcomes>\n",
            "<FreqDist with 6 samples and 6 outcomes>\n",
            "<FreqDist with 1 samples and 1 outcomes>\n",
            "<FreqDist with 1 samples and 1 outcomes>\n",
            "<FreqDist with 2 samples and 2 outcomes>\n",
            "<FreqDist with 4 samples and 4 outcomes>\n",
            "<FreqDist with 4 samples and 4 outcomes>\n",
            "<FreqDist with 1 samples and 1 outcomes>\n",
            "<FreqDist with 6 samples and 6 outcomes>\n",
            "<FreqDist with 4 samples and 4 outcomes>\n",
            "<FreqDist with 7 samples and 7 outcomes>\n",
            "<FreqDist with 1 samples and 1 outcomes>\n",
            "<FreqDist with 1 samples and 1 outcomes>\n",
            "<FreqDist with 2 samples and 2 outcomes>\n",
            "<FreqDist with 4 samples and 7 outcomes>\n",
            "<FreqDist with 1 samples and 1 outcomes>\n",
            "<FreqDist with 3 samples and 3 outcomes>\n",
            "<FreqDist with 2 samples and 2 outcomes>\n",
            "<FreqDist with 3 samples and 3 outcomes>\n",
            "<FreqDist with 8 samples and 9 outcomes>\n"
          ]
        }
      ]
    },
    {
      "cell_type": "code",
      "source": [],
      "metadata": {
        "id": "Y5RI5whgQ-HO"
      },
      "execution_count": null,
      "outputs": []
    }
  ]
}